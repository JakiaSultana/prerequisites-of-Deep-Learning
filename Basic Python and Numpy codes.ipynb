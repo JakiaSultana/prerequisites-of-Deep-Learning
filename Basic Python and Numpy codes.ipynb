{
 "cells": [
  {
   "cell_type": "code",
   "execution_count": 10,
   "metadata": {},
   "outputs": [
    {
     "name": "stdout",
     "output_type": "stream",
     "text": [
      "jenny\n",
      "01682013034\n",
      "jenny \n",
      " jakia \t sultana\n"
     ]
    }
   ],
   "source": [
    "#For singel line comment we use \"#\"\n",
    "'''\n",
    "For multiple line commentation \n",
    "we have to use \n",
    "3 single quation\n",
    "upside and the downside of the lines.\n",
    "'''\n",
    "print('jenny')\n",
    "print(\"01682013034\")\n",
    "print(\"jenny \\n jakia \\t sultana\") #backslash character or escape sequence"
   ]
  },
  {
   "cell_type": "code",
   "execution_count": 15,
   "metadata": {},
   "outputs": [
    {
     "name": "stdout",
     "output_type": "stream",
     "text": [
      "Our new student name is jenny\n",
      "jenny lives in Dhaka.\n",
      "She is currenty 25 years old.\n"
     ]
    }
   ],
   "source": [
    "#variables\n",
    "name = \"jenny\" # character varible is used with + sign means concatination\n",
    "age = 25\n",
    "print(\"Our new student name is \" +name)\n",
    "print(name + \" lives in Dhaka.\")\n",
    "print(\"She is currenty\", age, \"years old.\") # int or flot is used with comma\n"
   ]
  },
  {
   "cell_type": "code",
   "execution_count": 25,
   "metadata": {},
   "outputs": [
    {
     "name": "stdout",
     "output_type": "stream",
     "text": [
      "23\n",
      "15\n",
      "76\n",
      "4.75\n",
      "3\n",
      "4\n",
      "130321\n"
     ]
    }
   ],
   "source": [
    "#Basic numerical operator +, -, *, /, %, //(Floor), **(Exponentiation)\n",
    "a = 19\n",
    "b = 4\n",
    "print(a+b)\n",
    "print(a-b)\n",
    "print(a*b)\n",
    "print(a/b)\n",
    "print(a%b) \n",
    "\n",
    "print(a//b) #used for floor\n",
    "print(a**b) # used for exponentiation[a to the power of b]"
   ]
  },
  {
   "cell_type": "code",
   "execution_count": 29,
   "metadata": {},
   "outputs": [
    {
     "name": "stdout",
     "output_type": "stream",
     "text": [
      "Student Information\n",
      ".................\n",
      "Name : jenny\n",
      "Age : 26\n",
      "CGPA :3.65\n",
      "Enter your name: k\n",
      "Enter your age: 5\n",
      "Enter you CGPA: 3\n",
      "Student Information\n",
      ".................\n",
      "Name : k\n",
      "Age : 5\n",
      "CGPA : 3\n"
     ]
    }
   ],
   "source": [
    "#Getting user input\n",
    "\n",
    "# This is manual process\n",
    "name = \"jenny\"\n",
    "age = \"26\"\n",
    "GPA = \"3.65\"\n",
    "print(\"Student Information\")\n",
    "print(\".................\")\n",
    "print(\"Name : \"+name)\n",
    "print(\"Age : \"+age)\n",
    "print(\"CGPA :\"+ GPA)\n",
    "\n",
    "#from user taking the value with imput() function\n",
    "name = input(\"Enter your name: \")\n",
    "age = input(\"Enter your age: \")\n",
    "GPA = input(\"Enter you CGPA: \")\n",
    "\n",
    "print(\"Student Information\")\n",
    "print(\".................\")\n",
    "print(\"Name : \"+name)\n",
    "print(\"Age : \"+age)\n",
    "print(\"CGPA : \"+ GPA)\n",
    "\n"
   ]
  },
  {
   "cell_type": "code",
   "execution_count": 41,
   "metadata": {},
   "outputs": [
    {
     "name": "stdout",
     "output_type": "stream",
     "text": [
      "Enter first number: 3\n",
      "Enter second number: 4\n",
      "The sum is 7\n",
      "The substraction is -1\n",
      "Enter first number: 10\n",
      "Enter second number: 9\n",
      "19\n",
      "1\n"
     ]
    }
   ],
   "source": [
    "#Type casting\n",
    "#user input always string e hoy\n",
    "num1 = input(\"Enter first number: \")\n",
    "num2 = input(\"Enter second number: \")\n",
    "sum = int(num1) + int(num2) #conveting string to int\n",
    "print(\"The sum is\" , sum)\n",
    "\n",
    "sub = int(num1) - int(num2) #conveting string to int\n",
    "print(\"The substraction is\" , sub)\n",
    "\n",
    "# this process requires so much type casting rater we can change the type while tking inputs\n",
    "\n",
    "num1 = int(input(\"Enter first number: \"))\n",
    "num2 = int(input(\"Enter second number: \"))\n",
    "print( num1+num2)\n",
    "print( num1 -num2)\n"
   ]
  },
  {
   "cell_type": "code",
   "execution_count": 43,
   "metadata": {},
   "outputs": [
    {
     "name": "stdout",
     "output_type": "stream",
     "text": [
      "Enter the base of  triangle:4\n",
      "Enter height3\n",
      "Area of a trinage 6.0\n"
     ]
    }
   ],
   "source": [
    "#Area of a shape\n",
    "#triangle\n",
    "b = float(input(\"Enter the base of  triangle:\"))\n",
    "h = float(input(\"Enter height\"))\n",
    "Area = 0.5*b*h\n",
    "print(\"Area of a trinage\", Area)"
   ]
  },
  {
   "cell_type": "code",
   "execution_count": 50,
   "metadata": {},
   "outputs": [
    {
     "name": "stdout",
     "output_type": "stream",
     "text": [
      "30\n",
      "20\n",
      "4\n",
      "2.23606797749979\n",
      "8000.0\n",
      "3\n",
      "3\n",
      "3\n"
     ]
    }
   ],
   "source": [
    "#Math realted library Function\n",
    "from math import *\n",
    "print(max(20,30)) #max(a,b) will find the max\n",
    "print(min(20,30))\n",
    "print(abs(-4))\n",
    "print(sqrt(5))\n",
    "print(pow(20,3))\n",
    "print(round(2.6))\n",
    "print(floor(3.7))\n",
    "print(ceil(2.9))\n"
   ]
  },
  {
   "cell_type": "code",
   "execution_count": 65,
   "metadata": {},
   "outputs": [
    {
     "name": "stdout",
     "output_type": "stream",
     "text": [
      "<class 'str'>\n",
      "<class 'bool'>\n",
      "20 + 30 = 50 \n",
      "Jakia Sultana ID: 11508023\n"
     ]
    }
   ],
   "source": [
    "#Formatting string | Type Function\n",
    "num = \"20.5\"\n",
    "print(type(num)) # type() will return the type of value\n",
    "\n",
    "print(type(False))\n",
    "\n",
    "#string formatting 20 + 30 =50\n",
    "num1 = 20\n",
    "num2 = 30\n",
    "print(f\"{num1} + {num2} = {num1+num2} \")\n",
    "\n",
    "#print in single line with two print()\n",
    "print(\"Jakia Sultana\", end = \" \") #by default print() endup with newline but here we put space after the line\n",
    "print(\"ID: 11508023\")\n",
    " "
   ]
  },
  {
   "cell_type": "code",
   "execution_count": 69,
   "metadata": {},
   "outputs": [
    {
     "name": "stdout",
     "output_type": "stream",
     "text": [
      "False\n",
      "True\n",
      "False\n",
      "True\n"
     ]
    }
   ],
   "source": [
    "#Relational Operators and Boolean Data types\n",
    "# < > <= >= == != # result will be in boolean\n",
    "print(2>3)\n",
    "print(3<=5)\n",
    "print(\"Jenny\"==\"jenny\")\n",
    "print(3.14 != 3.114)"
   ]
  },
  {
   "cell_type": "code",
   "execution_count": 78,
   "metadata": {},
   "outputs": [
    {
     "name": "stdout",
     "output_type": "stream",
     "text": [
      "Enter your marks: 22\n",
      "Failed\n",
      "Better next time\n"
     ]
    }
   ],
   "source": [
    "#Control Statement \n",
    "#conditional control statement(if, else, elif)\n",
    "#loop control statement(for, while)\n",
    "marks = int(input(\"Enter your marks: \"))\n",
    "if(marks >= 33):\n",
    "    print(\"Passed\")\n",
    "    print(\"Congrats!\")\n",
    "if(marks<33): \n",
    "    print(\"Failed\")  \n",
    "    print(\"Better next time\")\n",
    "    \n"
   ]
  },
  {
   "cell_type": "code",
   "execution_count": 80,
   "metadata": {},
   "outputs": [
    {
     "name": "stdout",
     "output_type": "stream",
     "text": [
      "Enter your marks : 11\n",
      "F\n"
     ]
    }
   ],
   "source": [
    "#else if = elif\n",
    "'''statement1 = if statement\n",
    "statement 2 = if, else statement\n",
    "statement 3 or more = if, elif....else statement '''\n",
    "#Grading sytem \n",
    "marks = int(input(\"Enter your marks : \"))\n",
    "if(marks >= 80):\n",
    "    print(\"A+\")\n",
    "elif(marks >= 70):\n",
    "    print(\"A\")\n",
    "elif(marks >= 60):\n",
    "    print(\"A-\")\n",
    "elif(marks >= 50):\n",
    "    print(\"B\")\n",
    "elif(marks >= 40):\n",
    "    print(\"C\")\n",
    "else:\n",
    "    print(\"F\")\n"
   ]
  },
  {
   "cell_type": "code",
   "execution_count": 82,
   "metadata": {},
   "outputs": [
    {
     "name": "stdout",
     "output_type": "stream",
     "text": [
      "Enter num1 :20\n",
      "Enter num2:35\n",
      "Enter num3:17\n",
      "largest number is:  35\n"
     ]
    }
   ],
   "source": [
    "#Inner if statement or nested if\n",
    "#code to find largest among three\n",
    "num1  = int(input(\"Enter num1 :\"))\n",
    "num2 = int(input(\"Enter num2:\"))\n",
    "num3 = int(input(\"Enter num3:\"))\n",
    "\n",
    "if num1 > num2 :\n",
    "    if num1> num3:\n",
    "        print(\"largest number is: \", num1)\n",
    "    else:\n",
    "        print(\"largest number is: \", num3)\n",
    "if(num2 > num1):\n",
    "    if(num2 > num3):\n",
    "        print(\"largest number is: \", num2)\n",
    "    else:\n",
    "        print(\"largest number is: \", num3)\n",
    "\n"
   ]
  },
  {
   "cell_type": "code",
   "execution_count": 83,
   "metadata": {},
   "outputs": [
    {
     "name": "stdout",
     "output_type": "stream",
     "text": [
      "20\n"
     ]
    }
   ],
   "source": [
    "#Ternary operator\n",
    "# largest among 2\n",
    "num1= 10\n",
    "num2= 20\n",
    "print(num1 if num1> num2 else num2) # 3 operation in one line\n"
   ]
  },
  {
   "cell_type": "code",
   "execution_count": 89,
   "metadata": {},
   "outputs": [
    {
     "name": "stdout",
     "output_type": "stream",
     "text": [
      "Enter a character  : q\n",
      "consonent\n"
     ]
    }
   ],
   "source": [
    "#logical oeprator and or not\n",
    "#largest among 3\n",
    "\"\"\"\n",
    "num1  = int(input(\"Enter num1 :\"))\n",
    "num2 = int(input(\"Enter num2:\"))\n",
    "num3 = int(input(\"Enter num3:\"))\n",
    "\n",
    "if num1>num2 and num1>num3:\n",
    "    print(\"Largest Number is: \", num1)\n",
    "elif num2>num1 and num2> num3:\n",
    "    print(\"Largest Number is: \", num2)\n",
    "else:\n",
    "    print(\"Largest Number is: \", num3)\n",
    "\"\"\"\n",
    "    \n",
    "#vowel and consonet ditection\n",
    "ch = input(\"Enter a character  : \")\n",
    "\n",
    "if ch=='a' or ch == 'e' or ch =='i' or ch== 'o' or ch=='u':\n",
    "    print(\"Vowel\")\n",
    "else:\n",
    "    print(\"consonent\")\n"
   ]
  },
  {
   "cell_type": "code",
   "execution_count": 92,
   "metadata": {},
   "outputs": [
    {
     "name": "stdout",
     "output_type": "stream",
     "text": [
      "Enter your marks: 56\n",
      "C\n"
     ]
    }
   ],
   "source": [
    "#Code of letter grade using logical operator\n",
    "marks = int(input(\"Enter your marks: \"))\n",
    "if marks>=80 and marks<100:\n",
    "    print(\"A+\")\n",
    "elif marks>=70 and marks<80:\n",
    "    print(\"A\")\n",
    "elif marks>=60 and marks<70:\n",
    "    print(\"B\")\n",
    "elif marks>=50 and marks<60:\n",
    "    print(\"C\")\n",
    "else:\n",
    "    print(\"F\")"
   ]
  },
  {
   "cell_type": "code",
   "execution_count": 95,
   "metadata": {},
   "outputs": [
    {
     "name": "stdout",
     "output_type": "stream",
     "text": [
      "1\n",
      "2\n",
      "3\n",
      "4\n",
      "5\n",
      "6\n",
      "7\n",
      "8\n",
      "9\n",
      "10\n",
      "11\n",
      "12\n",
      "13\n",
      "14\n",
      "15\n",
      "16\n",
      "17\n",
      "18\n",
      "19\n",
      "20\n",
      "21\n",
      "22\n",
      "23\n",
      "24\n",
      "25\n",
      "26\n",
      "27\n",
      "28\n",
      "29\n",
      "30\n",
      "31\n",
      "32\n",
      "33\n",
      "34\n",
      "35\n",
      "36\n",
      "37\n",
      "38\n",
      "39\n",
      "40\n",
      "41\n",
      "42\n",
      "43\n",
      "44\n",
      "45\n",
      "46\n",
      "47\n",
      "48\n",
      "49\n",
      "50\n",
      "51\n",
      "52\n",
      "53\n",
      "54\n",
      "55\n",
      "56\n",
      "57\n",
      "58\n",
      "59\n",
      "60\n",
      "61\n",
      "62\n",
      "63\n",
      "64\n",
      "65\n",
      "66\n",
      "67\n",
      "68\n",
      "69\n",
      "70\n",
      "71\n",
      "72\n",
      "73\n",
      "74\n",
      "75\n",
      "76\n",
      "77\n",
      "78\n",
      "79\n",
      "80\n",
      "81\n",
      "82\n",
      "83\n",
      "84\n",
      "85\n",
      "86\n",
      "87\n",
      "88\n",
      "89\n",
      "90\n",
      "91\n",
      "92\n",
      "93\n",
      "94\n",
      "95\n",
      "96\n",
      "97\n",
      "98\n",
      "99\n",
      "100\n",
      "End\n",
      "2\n",
      "4\n",
      "6\n",
      "8\n",
      "10\n",
      "12\n",
      "14\n",
      "16\n",
      "18\n",
      "20\n",
      "22\n",
      "24\n",
      "26\n",
      "28\n",
      "30\n",
      "32\n",
      "34\n",
      "36\n",
      "38\n",
      "40\n",
      "42\n",
      "44\n",
      "46\n",
      "48\n",
      "50\n",
      "52\n",
      "54\n",
      "56\n",
      "58\n",
      "60\n",
      "62\n",
      "64\n",
      "66\n",
      "68\n",
      "70\n",
      "72\n",
      "74\n",
      "76\n",
      "78\n",
      "80\n",
      "82\n",
      "84\n",
      "86\n",
      "88\n",
      "90\n",
      "92\n",
      "94\n",
      "96\n",
      "98\n",
      "100\n",
      "End\n"
     ]
    }
   ],
   "source": [
    "#while Loop\n",
    "#print 1 to 100\n",
    "i = 1\n",
    "while (i<=100):\n",
    "    print(i)\n",
    "    i = i+1\n",
    "print(\"End\")\n",
    "\n",
    "#even numbers\n",
    "i = 2\n",
    "while (i<=100):\n",
    "    print(i)\n",
    "    i = i+2\n",
    "print(\"End\")"
   ]
  },
  {
   "cell_type": "code",
   "execution_count": 101,
   "metadata": {},
   "outputs": [
    {
     "name": "stdout",
     "output_type": "stream",
     "text": [
      "100\n",
      "Total sum :  5050\n"
     ]
    }
   ],
   "source": [
    "#sum of n numers\n",
    "n = int(input()) \n",
    "i =1\n",
    "sum = 0\n",
    "while(i<=n):\n",
    "    sum = sum+i\n",
    "    i = i+1\n",
    "    \n",
    "print(\"Total sum : \", sum)\n",
    "    \n"
   ]
  },
  {
   "cell_type": "code",
   "execution_count": 105,
   "metadata": {},
   "outputs": [
    {
     "name": "stdout",
     "output_type": "stream",
     "text": [
      "1\n",
      "2\n",
      "3\n",
      "4\n",
      "5\n",
      "6\n",
      "7\n",
      "8\n",
      "9\n",
      "10\n",
      "11\n",
      "12\n",
      "13\n",
      "14\n",
      "15\n",
      "16\n",
      "17\n",
      "18\n",
      "19\n"
     ]
    },
    {
     "ename": "KeyboardInterrupt",
     "evalue": "",
     "output_type": "error",
     "traceback": [
      "\u001b[1;31m---------------------------------------------------------------------------\u001b[0m",
      "\u001b[1;31mKeyboardInterrupt\u001b[0m                         Traceback (most recent call last)",
      "\u001b[1;32m<ipython-input-105-09f71a1b6bf6>\u001b[0m in \u001b[0;36m<module>\u001b[1;34m\u001b[0m\n\u001b[0;32m      1\u001b[0m \u001b[1;31m#break and contiue only use in if condition\u001b[0m\u001b[1;33m\u001b[0m\u001b[1;33m\u001b[0m\u001b[1;33m\u001b[0m\u001b[0m\n\u001b[0;32m      2\u001b[0m \u001b[0mi\u001b[0m \u001b[1;33m=\u001b[0m \u001b[1;36m1\u001b[0m\u001b[1;33m\u001b[0m\u001b[1;33m\u001b[0m\u001b[0m\n\u001b[1;32m----> 3\u001b[1;33m \u001b[1;32mwhile\u001b[0m \u001b[1;33m(\u001b[0m\u001b[0mi\u001b[0m\u001b[1;33m<=\u001b[0m\u001b[1;36m100\u001b[0m\u001b[1;33m)\u001b[0m\u001b[1;33m:\u001b[0m\u001b[1;33m\u001b[0m\u001b[1;33m\u001b[0m\u001b[0m\n\u001b[0m\u001b[0;32m      4\u001b[0m     \u001b[1;32mif\u001b[0m \u001b[0mi\u001b[0m \u001b[1;33m==\u001b[0m \u001b[1;36m20\u001b[0m\u001b[1;33m:\u001b[0m\u001b[1;33m\u001b[0m\u001b[1;33m\u001b[0m\u001b[0m\n\u001b[0;32m      5\u001b[0m         \u001b[1;32mcontinue\u001b[0m \u001b[1;31m# contiue er niche kno kaj korbe na abr loop e fire jabe\u001b[0m\u001b[1;33m\u001b[0m\u001b[1;33m\u001b[0m\u001b[0m\n",
      "\u001b[1;31mKeyboardInterrupt\u001b[0m: "
     ]
    }
   ],
   "source": [
    "#break and contiue only use in if condition\n",
    "i = 1\n",
    "while (i<=100):\n",
    "    if i == 20:\n",
    "        continue # contiue er niche kno kaj korbe na abr loop e fire jabe\n",
    "        #break # loop theke ber hote break use kori\n",
    "    print(i)\n",
    "    i = i+1\n",
    "print(\"End\")"
   ]
  },
  {
   "cell_type": "code",
   "execution_count": 113,
   "metadata": {},
   "outputs": [
    {
     "name": "stdout",
     "output_type": "stream",
     "text": [
      "['C', 'C++', 'Java', 'Python']\n",
      "['C++', 'Java', 'Python']\n",
      "Python\n",
      "False\n",
      "['C', 'C++', 'Java', 'Python', 'Javascript', 101]\n"
     ]
    }
   ],
   "source": [
    "#List is a python's object where we can store multiple items\n",
    "subjects = [\"C\",\"C++\",\"Java\",\"Python\"] \n",
    "print(subjects)\n",
    "#list er item index 0 theke suru hoy\n",
    "print(subjects[1:])\n",
    "print(subjects[-1]) #last the print korate caile\n",
    "\n",
    "print(\"Javascript\" in subjects) # in and not in can be used in list\n",
    "\n",
    "print(subjects + [\"Javascript\", 101]) # adding items in list\n",
    "\n"
   ]
  },
  {
   "cell_type": "code",
   "execution_count": 136,
   "metadata": {},
   "outputs": [
    {
     "name": "stdout",
     "output_type": "stream",
     "text": [
      "6\n",
      "['basic', 'Ruby', 'R', 'Python', 'Java', 'Android', 'C']\n",
      "['basic', 'Ruby', 'R', 'Python', 'Java', 'Android', 'C']\n",
      "4\n",
      "0\n"
     ]
    }
   ],
   "source": [
    "#List \n",
    "subjects = [\"C\",\"C++\",\"Java\",\"Python\",\"R\",\"Ruby\"]\n",
    "print(len(subjects)) #lenght of list start from 1\n",
    "subjects.append(\"basic\") # add element at the last\n",
    "\n",
    "subjects.insert(2,\"Android\") #index 2 te insert korlm\n",
    "subjects.remove(\"C++\") # removing particular items\n",
    "#subjects.sort() #sorting alphabetically\n",
    "subjects.reverse() #last to first item showing\n",
    "#subjects.pop() # remove the last item\n",
    "#subjects.clear() #clearing all items\n",
    "\n",
    "subjects2 = subjects.copy()\n",
    "print(subjects)\n",
    "print(subjects2)\n",
    "\n",
    "position = subjects.index(\"Java\") #return position of particular item\n",
    "print(position)\n",
    "count = subjects.count(\"Java\") # count the items if it is more than one in list\n",
    "print(count)\n",
    "\n",
    "\n"
   ]
  },
  {
   "cell_type": "code",
   "execution_count": 5,
   "metadata": {},
   "outputs": [
    {
     "name": "stdout",
     "output_type": "stream",
     "text": [
      "[0, 1, 2, 3, 4, 5, 6, 7, 8, 9]\n",
      "3\n",
      "[5, 6, 7, 8, 9, 10]\n",
      "[5, 7, 9, 11, 13, 15, 17, 19, 21, 23, 25, 27, 29, 31, 33, 35, 37, 39, 41, 43, 45, 47, 49, 51, 53, 55, 57, 59, 61, 63, 65, 67, 69, 71, 73, 75, 77, 79, 81, 83, 85, 87, 89, 91, 93, 95, 97, 99]\n"
     ]
    }
   ],
   "source": [
    "#range - ekta range e value generate kora ..0 theke start kore\n",
    "num = list(range(10)) # 0 theke 9 print korbe\n",
    "print(num)\n",
    "print(num[3])\n",
    "\n",
    "num = list(range(5,11)) # 5 theke 10porjnto print korbe\n",
    "print(num)\n",
    "\n",
    "num = list(range(5,100,2)) # 5 theke 100 porjnto print korbe and interval 2\n",
    "print(num)\n"
   ]
  },
  {
   "cell_type": "code",
   "execution_count": 2,
   "metadata": {},
   "outputs": [
    {
     "name": "stdout",
     "output_type": "stream",
     "text": [
      "[10, 20, 30, 40, 50, 60]\n",
      "10\n",
      "20\n",
      "30\n",
      "40\n",
      "50\n",
      "60\n",
      "10\n",
      "20\n",
      "30\n",
      "40\n",
      "50\n",
      "60\n"
     ]
    }
   ],
   "source": [
    "#for loop\n",
    "\n",
    "num = [10, 20, 30, 40, 50, 60]\n",
    "print(num)\n",
    "\n",
    "#using while loop print each value of list\n",
    "index =0\n",
    "n = len(num)\n",
    "while(index < n):\n",
    "    print(num[index])\n",
    "    index = index+1\n",
    "    \n",
    "    \n",
    "#using for loop print each value of list\n",
    "for x in num:\n",
    "    print(x)\n",
    "\n"
   ]
  },
  {
   "cell_type": "code",
   "execution_count": 7,
   "metadata": {},
   "outputs": [
    {
     "name": "stdout",
     "output_type": "stream",
     "text": [
      "Enter the last num: 10\n",
      "55\n"
     ]
    }
   ],
   "source": [
    "#Series program\n",
    "'''\n",
    "#1+2+3....+n\n",
    "\n",
    "n = int(input(\"Enter the last num: \"))\n",
    "num = (range(n)\n",
    "sum = 0\n",
    "for x in num:\n",
    "    sum = sum + x\n",
    "print(sum)\n",
    "\n",
    "'''\n",
    "n = int(input(\"Enter the last num: \"))\n",
    "sum = 0\n",
    "for x in range(1, n+1, 1):\n",
    "    sum = sum + x\n",
    "print(sum)\n",
    "\n",
    "\n"
   ]
  },
  {
   "cell_type": "code",
   "execution_count": 15,
   "metadata": {},
   "outputs": [
    {
     "name": "stdout",
     "output_type": "stream",
     "text": [
      "Enter the last num of series: 3\n",
      "14\n"
     ]
    }
   ],
   "source": [
    "'''\n",
    "# 2+4+6+.....+n (sum of even numbers from 1 to n)\n",
    "n = int(input(\"Enter the last number: \"))\n",
    "sum = 0\n",
    "for x in range(2, n+1, 2): \n",
    "    sum = sum + x\n",
    "    print(x)\n",
    "print(sum)\n",
    "\n",
    "# 1+3+5+7+.....+n (sum of odd numbers from 1 to n)\n",
    "n = int(input(\"Enter the last number: \"))\n",
    "sum = 0\n",
    "for x in range(1, n+1, 2): \n",
    "    sum = sum + x\n",
    "    print(x)\n",
    "print(sum)\n",
    "\n",
    "#4+8+12+...+n\n",
    "n = int(input(\"Enter the last num of series: \" ))\n",
    "sum = 0\n",
    "for x in range(4, n+1, 4):\n",
    "    sum = sum + x\n",
    "    print(x)\n",
    "print(sum)\n",
    "'''\n",
    "\n",
    "#1^2 + 2^2 +3^2+....+n^2\n",
    "n = int(input(\"Enter the last num of series: \" ))\n",
    "sum = 0\n",
    "for x in range(1,n+1, 1):\n",
    "    sum = sum + (x*x)\n",
    "print(sum)\n",
    "    \n",
    "\n"
   ]
  },
  {
   "cell_type": "code",
   "execution_count": 16,
   "metadata": {},
   "outputs": [
    {
     "name": "stdout",
     "output_type": "stream",
     "text": [
      "Enter the last num of series: 2\n",
      "1.5\n"
     ]
    }
   ],
   "source": [
    "# 1 + 1/2 +1/3+ ...+ 1/n\n",
    "n = int(input(\"Enter the last num of series: \" ))\n",
    "sum = 0\n",
    "for x in range(1,n+1, 1):\n",
    "    sum = sum + (1/x)\n",
    "print(sum)"
   ]
  },
  {
   "cell_type": "code",
   "execution_count": 8,
   "metadata": {},
   "outputs": [
    {
     "name": "stdout",
     "output_type": "stream",
     "text": [
      "Enter a number to check prime number: 2\n",
      "Prime number\n"
     ]
    }
   ],
   "source": [
    "# find a prime number\n",
    "from math import *\n",
    "num = int(input(\"Enter a number to check prime number: \"))\n",
    "Flag = False\n",
    "for x in range (2, ceil(num/2)):\n",
    "    if(num%x == 0):\n",
    "        Flag = True\n",
    "    break\n",
    "if Flag== True:\n",
    "    print(\"Not a prime number\")\n",
    "else:\n",
    "    print(\"Prime number\")\n",
    "    \n"
   ]
  },
  {
   "cell_type": "code",
   "execution_count": 15,
   "metadata": {},
   "outputs": [
    {
     "name": "stdout",
     "output_type": "stream",
     "text": [
      "Enter the number: 5\n",
      "*\n",
      "**\n",
      "***\n",
      "****\n",
      "*****\n"
     ]
    }
   ],
   "source": [
    "#pattern\n",
    "\"\"\"\n",
    "*\n",
    "**\n",
    "***\n",
    "****\n",
    "\"\"\"\n",
    "x = int(input(\"Enter the number: \"))\n",
    "for i in range(1,x+1):\n",
    "    print(i*\"*\")"
   ]
  },
  {
   "cell_type": "code",
   "execution_count": 13,
   "metadata": {},
   "outputs": [
    {
     "name": "stdout",
     "output_type": "stream",
     "text": [
      "Enter the number: 5\n",
      "*\n",
      "***\n",
      "*****\n",
      "*******\n",
      "*********\n"
     ]
    }
   ],
   "source": [
    "\"\"\"\n",
    "*   2*I -1\n",
    "***\n",
    "*****\n",
    "*******\n",
    "\"\"\"\n",
    "x = int(input(\"Enter the number: \"))\n",
    "for i in range(1,x+1):\n",
    "    print(((2*i)-1)*\"*\")"
   ]
  },
  {
   "cell_type": "code",
   "execution_count": 1,
   "metadata": {},
   "outputs": [
    {
     "name": "stdout",
     "output_type": "stream",
     "text": [
      "Enter your guess num between 1 to 5 :4\n",
      "Won\n",
      "Enter your guess num between 1 to 5 :1\n",
      "lost\n",
      "random number waS:  3\n",
      "Enter your guess num between 1 to 5 :4\n",
      "Won\n",
      "Enter your guess num between 1 to 5 :5\n",
      "lost\n",
      "random number waS:  2\n",
      "Enter your guess num between 1 to 5 :6\n",
      "lost\n",
      "random number waS:  2\n"
     ]
    }
   ],
   "source": [
    "#guessing number by generating random values\n",
    "import random\n",
    "\"\"\"\n",
    "guessNum = int(input(\"Enter your guess num between 1 to 5 :\"))\n",
    "randomNumber = random.randint(1,5) # small range er random value generate korle evabe range deya valo\n",
    "#randomNumber = random.random()*100 # large range e random num geneate korte caile\n",
    "if guessNum == randomNumber:\n",
    "    print(\"Won\")\n",
    "else:\n",
    "        print(\"lost\")\n",
    "        print(\"random number waS: \", randomNumber)\n",
    " \"\"\"       \n",
    "for x in range(1,6):\n",
    "    guessNum = int(input(\"Enter your guess num between 1 to 5 :\"))\n",
    "    randomNumber = random.randint(1,5)\n",
    "    \n",
    "    if guessNum == randomNumber:\n",
    "        print(\"Won\")\n",
    "    else:\n",
    "        print(\"lost\")\n",
    "        print(\"random number waS: \", randomNumber)\n",
    "    "
   ]
  },
  {
   "cell_type": "code",
   "execution_count": 4,
   "metadata": {},
   "outputs": [
    {
     "name": "stdout",
     "output_type": "stream",
     "text": [
      "Enter a text of numbers: 12 1 2 6\n",
      "21\n"
     ]
    }
   ],
   "source": [
    "#list as input from user\n",
    "\"\"\"\n",
    "input = 10 20 30 40 set of number string\n",
    "out= summation of numbers\n",
    "\"\"\"\n",
    "n = input(\"Enter a text of numbers: \")\n",
    "list= n.split() # 10, 20, 30 mane sob string gulo alada\n",
    "sum = 0\n",
    "\n",
    "for num in list:\n",
    "    sum = sum + int(num)\n",
    "print(sum)\n",
    "\n"
   ]
  },
  {
   "cell_type": "code",
   "execution_count": 8,
   "metadata": {},
   "outputs": [
    {
     "name": "stdout",
     "output_type": "stream",
     "text": [
      "Enter a text of numbers : bangla desh 1149 qw\n",
      "12\n",
      "4\n",
      "4\n"
     ]
    }
   ],
   "source": [
    "#finding the number of word, digits and letter from a list input\n",
    "numOfWords = 0\n",
    "numofLetters = 0\n",
    "numOfDigits = 0\n",
    "text = input(\"Enter a text of numbers : \") #My name is 123\n",
    "\n",
    "for x in text:\n",
    "    x = x.lower()\n",
    "    if x >= 'a' and x <= 'z':\n",
    "        numofLetters = numofLetters + 1\n",
    "    elif x >= '0' and x <= '9':\n",
    "        numOfDigits = numOfDigits + 1\n",
    "    elif x == ' ':\n",
    "        numOfWords = numOfWords + 1\n",
    "    \n",
    "print(numofLetters)\n",
    "print(numOfDigits)\n",
    "print(numOfWords+1)\n",
    "        \n",
    "         \n",
    "    "
   ]
  },
  {
   "cell_type": "code",
   "execution_count": 3,
   "metadata": {},
   "outputs": [
    {
     "name": "stdout",
     "output_type": "stream",
     "text": [
      "10\n",
      "1\n",
      "2\n",
      "10\n",
      "4\n",
      "5\n",
      "6\n"
     ]
    }
   ],
   "source": [
    "#matrix is 2D list or array\n",
    "matrix = [\n",
    "    [1,2,3],\n",
    "    [4,5,6]   \n",
    "]\n",
    "matrix[0][2]= 10 # to change the value of matrix\n",
    "print(matrix[0][2])\n",
    "\n",
    "# to print the value of matrix using loop\n",
    "for row in matrix:\n",
    "    for col in row:\n",
    "        print(col)\n",
    "        \n"
   ]
  },
  {
   "cell_type": "code",
   "execution_count": 9,
   "metadata": {},
   "outputs": [
    {
     "name": "stdout",
     "output_type": "stream",
     "text": [
      "Jakia Sultana\n",
      "Fariha Sultana\n",
      "None\n",
      "Not a valid key\n",
      "Marjana Akhter\n"
     ]
    }
   ],
   "source": [
    "#Dictionary\n",
    "'''\n",
    "Kye -> value pair\n",
    "\n",
    "Name -> Jakia Sultana \n",
    "Email -> jenny15cu@gamil.com\n",
    "Age -> 25\n",
    "\n",
    "'''\n",
    "studentId = {\n",
    "    \"101\": \"Jakia Sultana\",\n",
    "    \"102\": \"Fariha Sultana\",\n",
    "    \"103\": \"Marjana Akhter\",\n",
    "    \n",
    "    \n",
    "}\n",
    "print(studentId[\"101\"]) # to print particular key or,\n",
    "print(studentId.get(\"102\")) #using get function we can print\n",
    "\n",
    "print(studentId.get(\"105\")) # it will give \"none\"as output\n",
    "print(studentId.get(\"105\", \"Not a valid key\")) # if the key is not present then it will print this msg\n",
    "\n",
    "print(studentId.get(\"103\", \"Not a valid key\")) # if the key is present then it will print that keys value\n",
    "\n",
    "\n"
   ]
  },
  {
   "cell_type": "code",
   "execution_count": 15,
   "metadata": {},
   "outputs": [
    {
     "name": "stdout",
     "output_type": "stream",
     "text": [
      "('Jakia', 25, 'From Comilla')\n",
      "('sultana', 'jenny', 'toma')\n"
     ]
    }
   ],
   "source": [
    "#tuples are used to store multiple items in a single variable\n",
    "#a tuple is a collection which is ordered and unchangeable\n",
    "\n",
    "\n",
    "students = ((\"Jakia\", 25, \"From Comilla\")# tuple can store tuple\n",
    "            ,\"sultana\",\"jenny\",\"toma\")\n",
    "print(students[0])\n",
    "#tuple slicing\n",
    "print(students[1:])"
   ]
  },
  {
   "cell_type": "code",
   "execution_count": 23,
   "metadata": {},
   "outputs": [
    {
     "name": "stdout",
     "output_type": "stream",
     "text": [
      "{1, 2, 3, 5}\n",
      "{3, 4, 7, 8, 9, 19}\n",
      "{1, 2, 3, 4, 5, 7, 8, 9, 19}\n",
      "{3}\n",
      "{1, 2, 5}\n"
     ]
    }
   ],
   "source": [
    "#set are used to store multiple items in a single variable which are unordered and unindexed\n",
    "# no duplicate values\n",
    "#no index access\n",
    "num1 = {1,2,3,4,5,5,5} # though 5 3bar ache but print hbe 1bar\n",
    "num2 = set([3,4,7,8,9]) #another way to create set with set func\n",
    "num2.add(19)\n",
    "num1.remove(4)\n",
    "print(num1)\n",
    "print(num2)\n",
    "\n",
    "#real use of set\n",
    "print(num1 | num2)\n",
    "print(num1 & num2)\n",
    "print(num1 - num2)\n"
   ]
  },
  {
   "cell_type": "code",
   "execution_count": 29,
   "metadata": {},
   "outputs": [
    {
     "name": "stdout",
     "output_type": "stream",
     "text": [
      "['Learn C', 'Learn C++', 'Learn Python', 'Learn Java']\n",
      "Now the top book is:  Learn Python\n",
      "Now the top book is:  Learn C++\n",
      "Now the top book is:  Learn C\n",
      "No book left\n"
     ]
    }
   ],
   "source": [
    "#stack LIFO\n",
    "books = [] #empty list\n",
    "books.append(\"Learn C\")\n",
    "books.append(\"Learn C++\")\n",
    "books.append(\"Learn Python\")\n",
    "books.append(\"Learn Java\")\n",
    "print(books)\n",
    "\n",
    "books.pop()\n",
    "print(\"Now the top book is: \",books[-1])\n",
    "\n",
    "books.pop()\n",
    "print(\"Now the top book is: \",books[-1])\n",
    "\n",
    "books.pop()\n",
    "print(\"Now the top book is: \",books[-1])\n",
    "\n",
    "books.pop()\n",
    "if not books:\n",
    "    print(\"No book left\")\n",
    "\n"
   ]
  },
  {
   "cell_type": "code",
   "execution_count": 32,
   "metadata": {},
   "outputs": [
    {
     "name": "stdout",
     "output_type": "stream",
     "text": [
      "deque(['jenny', 'jisan'])\n",
      "deque(['jisan'])\n",
      "deque([])\n",
      "No one left\n"
     ]
    }
   ],
   "source": [
    "#Queue FIFO\n",
    "#Queue doesn't work as stack as after popoing every item change its position\n",
    "from collections import deque\n",
    "\n",
    "bank = deque([\"anis\",\"jenny\",\"jisan\"])\n",
    "bank.popleft()\n",
    "print(bank)\n",
    "\n",
    "bank.popleft()\n",
    "print(bank)\n",
    "\n",
    "bank.popleft()\n",
    "print(bank)\n",
    "\n",
    "if not bank:\n",
    "    print(\"No one left\")"
   ]
  },
  {
   "cell_type": "code",
   "execution_count": 35,
   "metadata": {},
   "outputs": [
    {
     "name": "stdout",
     "output_type": "stream",
     "text": [
      "30\n",
      "No Parameter\n"
     ]
    }
   ],
   "source": [
    "#Function [User defined function]\n",
    "def add(a,b):\n",
    "    sum = a+b\n",
    "    print(sum)\n",
    "    \n",
    "add(10,20)\n",
    "message()\n",
    "\n",
    "#parameter less function\n",
    "def message():\n",
    "    print(\"No Parameter\")\n"
   ]
  },
  {
   "cell_type": "code",
   "execution_count": 36,
   "metadata": {},
   "outputs": [
    {
     "name": "stdout",
     "output_type": "stream",
     "text": [
      "Result =  50\n",
      "30\n"
     ]
    }
   ],
   "source": [
    "#returning value from function\n",
    "def add(a,b):\n",
    "    sum = a+b\n",
    "    return sum\n",
    "result = add(20,30)\n",
    "print(\"Result = \", result)\n",
    "\n",
    "# find largest among two\n",
    "def large(a,b):\n",
    "    if a>b:\n",
    "        return a\n",
    "    else:\n",
    "        return b\n",
    "\n",
    "print(large(10,30))"
   ]
  },
  {
   "cell_type": "code",
   "execution_count": 51,
   "metadata": {},
   "outputs": [
    {
     "name": "stdout",
     "output_type": "stream",
     "text": [
      "('jakia Sultana', 11508023, 'jenny15cu@gmail.com')\n",
      "25\n",
      "101\n",
      "242\n",
      "11508023\n"
     ]
    }
   ],
   "source": [
    "# xarg and xxarg\n",
    "\"\"\"\n",
    "def student(id, name):\n",
    "    print(id, name)\n",
    "    \n",
    "student(11508023, \"jenny\")\n",
    "# jodi beshi data dekhate chai tahole function er parameter o beshi dite hbe\n",
    "# but xarg use korle parameter change na korei beshi agument pass kor ajabe\n",
    "\"\"\"\n",
    "def student(*details):\n",
    "    print(details)\n",
    "\n",
    "student(\"jakia Sultana\", 11508023, \"jenny15cu@gmail.com\")#return value as tuple\n",
    "\n",
    "#using xarg we calculate summation\n",
    "\n",
    "def add(*numbers): # *numbers means xargs\n",
    "    sum = 0\n",
    "    for num in numbers:\n",
    "        sum = sum + num\n",
    "    print(sum)\n",
    "    \n",
    "add(10,15)\n",
    "add(22,23,56)\n",
    "add(12,54,78,98)\n",
    "\n",
    "#xxargs [key value pair or dictionaryr mto kaj kore]\n",
    "# arbitrary keyword argument\n",
    "def students(**detail):\n",
    "    print(detail['id'])\n",
    "    \n",
    "students(id= 11508023, name= \" Jakia Sultana\", cgpa = 3.5)\n"
   ]
  },
  {
   "cell_type": "code",
   "execution_count": 53,
   "metadata": {},
   "outputs": [
    {
     "name": "stdout",
     "output_type": "stream",
     "text": [
      "900\n",
      "25\n"
     ]
    }
   ],
   "source": [
    "#Lamda Function\n",
    "# A function without name(annonymous function)\n",
    "# Not powerful as Named function\n",
    "# It can work with single expression/ single line of code\n",
    "\n",
    "def calculation(a,b):  #named function\n",
    "    return a*a + 2*a*b +b*b\n",
    "\n",
    "a = (lambda a,b: a*a + 2*a*b +b*b) (2,3) #annonymous func\n",
    "\n",
    "print(calculation(10,20))\n",
    "print(a)\n"
   ]
  },
  {
   "cell_type": "code",
   "execution_count": 2,
   "metadata": {},
   "outputs": [
    {
     "name": "stdout",
     "output_type": "stream",
     "text": [
      "[1, 4, 9, 16, 25]\n",
      "[10, 34]\n"
     ]
    }
   ],
   "source": [
    "#Map and Filter function\n",
    "# work with list\n",
    "#map has 2 parameter. function and llist\n",
    "\n",
    "\n",
    "def square(a):\n",
    "    return a*a\n",
    "num = [1,2,3,4,5]\n",
    "result= list(map(square, num))\n",
    "print(result)\n",
    "\n",
    "#filter function\n",
    "#it will remove the items from list which is not matched in the funcc=tion\n",
    "number = [10,21,34,41,53]\n",
    "result2 = list(filter(lambda x : x%2 ==0, number))\n",
    "print(result2)\n"
   ]
  },
  {
   "cell_type": "code",
   "execution_count": 11,
   "metadata": {},
   "outputs": [
    {
     "name": "stdout",
     "output_type": "stream",
     "text": [
      "[10, 34]\n",
      "[2, 4]\n"
     ]
    }
   ],
   "source": [
    "#List comprehension\n",
    "number2 = [10,21,34,41,53]\n",
    "result2 = list(filter(lambda x : x%2==0, number2))\n",
    "print(result2)\n",
    "\n",
    "#his work can be done more easily with list comprehension\n",
    "#syntax = [expression for item in list]\n",
    "# expression = x*x, item = x, list = number\n",
    "\n",
    "\n",
    "number = [1,2,3,4,5]\n",
    "#result= [x*x for x in number]\n",
    "result= [x for x in number if x%2==0]\n",
    "print(result)\n"
   ]
  },
  {
   "cell_type": "code",
   "execution_count": 14,
   "metadata": {},
   "outputs": [
    {
     "name": "stdout",
     "output_type": "stream",
     "text": [
      "[(1, 'mosiur', 'j'), (2, 'abu bakar', 'e'), (3, 'sabbir', 'n'), (4, 'tanim', 'n'), (5, 'shipra', 'y'), (6, 'dipto', 'q')]\n"
     ]
    }
   ],
   "source": [
    "#zip function\n",
    "roll = [1,2,3,4,5,6,7]\n",
    "name = [\"mosiur\", \"abu bakar\",\"sabbir\",\"tanim\",\"shipra\",\"dipto\",\"sathi\"]\n",
    "section = \"ABABAB\"\n",
    "print(list(zip(roll, name, section))) #generate tuples\n"
   ]
  },
  {
   "cell_type": "code",
   "execution_count": 16,
   "metadata": {},
   "outputs": [
    {
     "name": "stdout",
     "output_type": "stream",
     "text": [
      "120\n"
     ]
    }
   ],
   "source": [
    "#recursion\n",
    "#factorial problem\n",
    "\n",
    "def factorial(n):\n",
    "    if n==1:\n",
    "        return 1\n",
    "    else:\n",
    "        return n * factorial(n-1)\n",
    "    \n",
    "result= factorial(5)\n",
    "print(result)"
   ]
  },
  {
   "cell_type": "code",
   "execution_count": 34,
   "metadata": {},
   "outputs": [
    {
     "name": "stdout",
     "output_type": "stream",
     "text": [
      "True\n",
      "Jakia from dept of cse\n",
      "\n",
      "kaniz from math\n",
      "\n",
      "shanta from ict\n",
      "\n",
      "jalal from eng\n"
     ]
    }
   ],
   "source": [
    "#Reading a file\n",
    "file = open(\"Anisul.txt\", \"r+\") # r+ means read and write\n",
    "print(file.readable()) #check the file readable or not\n",
    "\"\"\"\n",
    "text = file.read() # to read the file\n",
    "print(text)\n",
    "size = len(text) # total lenght of character in this file\n",
    "print(size)\n",
    "\n",
    "textline = file.readlines()[0] # read the lines in this textfile\n",
    "print(textline)\n",
    "\"\"\"\n",
    "for line in file:\n",
    "    print(line)\n",
    "file.close()"
   ]
  },
  {
   "cell_type": "code",
   "execution_count": 36,
   "metadata": {},
   "outputs": [],
   "source": [
    "#writing in a file\n",
    "# only \"w\" dile new text previous text k overwrite korbe\n",
    "file= open(\"Anisul.txt\",\"a\") # a means append ager ja ache tar sathe new add\n",
    "file.write(\"\\n Sumi from Bangla\")\n",
    "\n",
    "file.close()"
   ]
  },
  {
   "cell_type": "markdown",
   "metadata": {},
   "source": [
    " # Python Libraries\n",
    " "
   ]
  },
  {
   "cell_type": "markdown",
   "metadata": {},
   "source": [
    "#                    Numpy\n",
    "NumPy is a Python library.\n",
    "\n",
    "NumPy is used for working with arrays.\n",
    "\n",
    "NumPy is used for linear algebra, fourier transform, and matrics.\n"
   ]
  },
  {
   "cell_type": "code",
   "execution_count": 37,
   "metadata": {},
   "outputs": [
    {
     "name": "stdout",
     "output_type": "stream",
     "text": [
      "[1 2 3 4 5]\n",
      "<class 'numpy.ndarray'>\n"
     ]
    }
   ],
   "source": [
    "#create a numpy array\n",
    "import numpy as np\n",
    "arr = np.array([1,2,3,4,5])\n",
    "print(arr)\n",
    "print(type(arr)) # array object in Numpy is ndarray"
   ]
  },
  {
   "cell_type": "code",
   "execution_count": 39,
   "metadata": {},
   "outputs": [
    {
     "name": "stdout",
     "output_type": "stream",
     "text": [
      "1.16.2\n"
     ]
    }
   ],
   "source": [
    "# to ckeck numpy version\n",
    "import numpy as np\n",
    "print(np.__version__)"
   ]
  },
  {
   "cell_type": "markdown",
   "metadata": {},
   "source": [
    "### ndim attribute returns dimensions\n",
    "### ndmin used to set the dimension "
   ]
  },
  {
   "cell_type": "code",
   "execution_count": 44,
   "metadata": {},
   "outputs": [
    {
     "name": "stdout",
     "output_type": "stream",
     "text": [
      "0\n",
      "1\n",
      "2\n",
      "3\n",
      "[[[[[1 2 3 4]]]]]\n",
      "number of dimensions:  5\n"
     ]
    }
   ],
   "source": [
    "#Dimensions in array\n",
    "import numpy as np\n",
    "\n",
    "a = np.array(10) #0D array - single element\n",
    "b = np.array([1,2,3,4,5]) #1D array - 0D arrays\n",
    "c = np.array([[1,2,3,4],[5,6,7,8]]) #2D array/matrix - 1D arrays\n",
    "d = np.array([[[1,2,3,4],[5,6,7,8]],[[10,21,32,43],[53,64,76,86]]]) #3D array - 2D arrays\n",
    "\n",
    "print(a.ndim)# ndim attribute returns an int to tell how many dimensions that array have\n",
    "print(b.ndim)\n",
    "print(c.ndim)\n",
    "print(d.ndim)\n",
    "\n",
    "#Higher Dimensional Arrays\n",
    "\n",
    "arr = np.array([1,2,3,4], ndmin = 5) # ndmin means num of dimension\n",
    "print(arr)\n",
    "print('number of dimensions: ', arr.ndim)"
   ]
  },
  {
   "cell_type": "code",
   "execution_count": 1,
   "metadata": {},
   "outputs": [
    {
     "name": "stdout",
     "output_type": "stream",
     "text": [
      "1\n",
      "9\n",
      "8\n",
      "6\n",
      "5\n"
     ]
    }
   ],
   "source": [
    "#Numpy Array Indexing\n",
    "\n",
    "#access Array elements\n",
    "import numpy as np\n",
    "\n",
    "arr = np.array([1,2,3,4,5])\n",
    "print(arr[0])\n",
    "print(arr[3]+arr[4])#access 4th n 5th element and add them\n",
    "\n",
    "#access 2D array\n",
    "arr2 = np.array([[3,5,7],[8,9,3]])\n",
    "print(arr2[1,0])#1st element of 2nd dimesion\n",
    "\n",
    "#access 3D array\n",
    "arr3 = np.array([[[1, 2, 3], [4, 5, 6]], [[7, 8, 9], [10, 11, 12]]])\n",
    "\n",
    "print(arr3[0, 1, 2])\n",
    "\n",
    "\"\"\"\n",
    "arr3[0, 1, 2] prints the value 6.\n",
    "\n",
    "And this is why:\n",
    "\n",
    "The first number represents the first dimension, which contains two arrays:\n",
    "[[1, 2, 3], [4, 5, 6]]\n",
    "and:\n",
    "[[7, 8, 9], [10, 11, 12]]\n",
    "Since we selected 0, we are left with the first array:\n",
    "[[1, 2, 3], [4, 5, 6]]\n",
    "\n",
    "The second number represents the second dimension, which also contains two arrays:\n",
    "[1, 2, 3]\n",
    "and:\n",
    "[4, 5, 6]\n",
    "Since we selected 1, we are left with the second array:\n",
    "[4, 5, 6]\n",
    "\n",
    "The third number represents the third dimension, which contains three values:\n",
    "4\n",
    "5\n",
    "6\n",
    "Since we selected 2, we end up with the third value:\n",
    "6\n",
    "\"\"\" \n",
    "#nregative indexing\n",
    "arr4 = np.array([1,2,3,4,5,6])\n",
    "print(arr4[-2])"
   ]
  },
  {
   "cell_type": "code",
   "execution_count": 7,
   "metadata": {},
   "outputs": [
    {
     "name": "stdout",
     "output_type": "stream",
     "text": [
      "[2 3 4 5]\n",
      "[2 4]\n",
      "[1 2 3 4 5 6 7]\n",
      "[5 6 7 8]\n",
      "[1 2 3 4]\n",
      "[6 7]\n",
      "[1 3 5 7]\n",
      "[2 3]\n"
     ]
    }
   ],
   "source": [
    "#Numpy Array slicing\n",
    "\"\"\"\n",
    "Slicing in python means taking elements from one given index to another given index.\n",
    "\n",
    "We pass slice instead of index like this: [start:end].\n",
    "\n",
    "We can also define the step, like this: [start:end:step].\n",
    "\n",
    "If we don't pass start its considered 0\n",
    "\n",
    "If we don't pass end its considered length of array in that dimension\n",
    "\n",
    "If we don't pass step its considered 1\n",
    "\n",
    "\"\"\"\n",
    "\n",
    "import numpy as np\n",
    "arr = np.array([1,2,3,4,5,6,7,8])\n",
    "print(arr[1:5]) #start index 1 to index 4.. 5 dile 4 porjnto print hbe\n",
    "print(arr[1:4:2]) #last one step mane koto ghor por por print hbe\n",
    "print(arr[:7]) #0 theke 6th index porjnto value print\n",
    "print(arr[4:]) #slice element from index 4 to end\n",
    "print(arr[:4]) \n",
    "print(arr[-3: -1])\n",
    "\n",
    "print(arr[::2]) # stat from 0 index to end and step is 2\n",
    "#slicing 2D array\n",
    "arr2 =np.array([[1,2,3,4],[5,6,7,8]])\n",
    "print(arr2[0, 1:3]) # from 1st row print index 1 to 3\n",
    "\n"
   ]
  },
  {
   "cell_type": "code",
   "execution_count": 9,
   "metadata": {},
   "outputs": [
    {
     "name": "stdout",
     "output_type": "stream",
     "text": [
      "[3 8]\n",
      "[[2 3 4]\n",
      " [7 8 9]]\n"
     ]
    }
   ],
   "source": [
    "#from both element return index 2\n",
    "arr = np.array([[1,2,3,4,5],[6,7,8,9,10]])\n",
    "print(arr[0:2, 2])\n",
    "\n",
    "#from both element, slice 1 to index 4\n",
    "print(arr[0:2, 1:4])"
   ]
  },
  {
   "cell_type": "code",
   "execution_count": 16,
   "metadata": {},
   "outputs": [
    {
     "name": "stdout",
     "output_type": "stream",
     "text": [
      "<U8\n",
      "[b'1' b'2' b'3' b'4']\n",
      "|S1\n"
     ]
    }
   ],
   "source": [
    "#NumPy Data type\n",
    "\"\"\"\n",
    "i - integer\n",
    "b - boolean\n",
    "u - unsigned integer\n",
    "f - float\n",
    "c - complex float\n",
    "m - timedelta\n",
    "M - datetime\n",
    "O - object\n",
    "S - string\n",
    "U - unicode string\n",
    "V - fixed chunk of memory for other type ( void )\n",
    "\"\"\"\n",
    "arr = np.array(['08-05-21'])\n",
    "print(arr.dtype) #dtype to know the datatype\n",
    "#creating array with defined datatype\n",
    "\n",
    "arr2 = np.array([1,2,3,4], dtype = 'S')\n",
    "print(arr2)\n",
    "print(arr2.dtype)"
   ]
  },
  {
   "cell_type": "markdown",
   "metadata": {},
   "source": [
    "#### Converting Datatype with astype() function"
   ]
  },
  {
   "cell_type": "code",
   "execution_count": 17,
   "metadata": {
    "scrolled": true
   },
   "outputs": [
    {
     "name": "stdout",
     "output_type": "stream",
     "text": [
      "[1 3 3 4] [1.3 3.1 3.7 4.2]\n"
     ]
    }
   ],
   "source": [
    "#converitng datatype on existing array\n",
    "#using astype() function\n",
    "arr = np.array([1.3,3.1,3.7,4.2])\n",
    "#copying this array to new variable\n",
    "newarr = arr.astype(int)\n",
    "print(newarr,arr)"
   ]
  },
  {
   "cell_type": "code",
   "execution_count": 18,
   "metadata": {},
   "outputs": [
    {
     "name": "stdout",
     "output_type": "stream",
     "text": [
      "[32 12 34]\n",
      "[10 12 34]\n"
     ]
    }
   ],
   "source": [
    "#NumPy array Copy vs View\n",
    "#copy() is a new array and own the data, any changes here doesnt affect the original array\n",
    "#view() is just a view of original data, any change can affect the original array\n",
    "\n",
    "import numpy as np\n",
    "arr = np.array([10,12,34])\n",
    "x = arr.copy()\n",
    "arr[0] = 32\n",
    "print(arr)\n",
    "print(x)\n"
   ]
  },
  {
   "cell_type": "code",
   "execution_count": 19,
   "metadata": {},
   "outputs": [
    {
     "name": "stdout",
     "output_type": "stream",
     "text": [
      "[10 12 11]\n",
      "[10 12 11]\n"
     ]
    }
   ],
   "source": [
    "arr = np.array([10,12,34])\n",
    "x = arr.view()\n",
    "x[2] = 11\n",
    "print(arr)\n",
    "print(x)\n",
    "#changes in view array can affect original one"
   ]
  },
  {
   "cell_type": "code",
   "execution_count": 20,
   "metadata": {},
   "outputs": [
    {
     "name": "stdout",
     "output_type": "stream",
     "text": [
      "None\n",
      "[10 12 34]\n"
     ]
    }
   ],
   "source": [
    "#to check whether copy and view array has any value\n",
    "#using base attribute\n",
    "#if there is value it will return none\n",
    "#if doesn't have value it will return original array\n",
    "arr = np.array([10,12,34])\n",
    "x = arr.copy()\n",
    "y = arr.view()\n",
    "\n",
    "print(x.base)\n",
    "print(y.base)"
   ]
  },
  {
   "cell_type": "code",
   "execution_count": 24,
   "metadata": {},
   "outputs": [
    {
     "name": "stdout",
     "output_type": "stream",
     "text": [
      "(2, 4)\n",
      "[[[[[1 2 3 4]]]]]\n"
     ]
    }
   ],
   "source": [
    "#Shape of an array\n",
    "arr = np.array([[1,2,3,4],[6,7,8,9]])\n",
    "print(arr.shape)\n",
    "#shape attribute will return the dimension ansd number of element in each dimension\n",
    "\n",
    "arr2 = np.array([1,2,3,4], ndmin = 5) #creating 5D array\n",
    "print(arr2)"
   ]
  },
  {
   "cell_type": "code",
   "execution_count": 1,
   "metadata": {},
   "outputs": [
    {
     "name": "stdout",
     "output_type": "stream",
     "text": [
      "[[ 1  2  3]\n",
      " [ 4  5  6]\n",
      " [ 7  8  9]\n",
      " [10 11 12]]\n",
      "[[[ 1  2]\n",
      "  [ 3  4]\n",
      "  [ 5  6]]\n",
      "\n",
      " [[ 7  8]\n",
      "  [ 9 10]\n",
      "  [11 12]]]\n",
      "[ 1  2  3  4  5  6  7  8  9 10 11 12]\n"
     ]
    }
   ],
   "source": [
    "#Reshapping Array  \n",
    "#by reshaping we can change the dimension\n",
    "#reshape 1D to 2D\n",
    "import numpy as np\n",
    "arr = np.array([1,2,3,4,5,6,7,8,9,10,11,12])\n",
    "newarr = arr.reshape(4,3) # 4arrays each with 3 elements\n",
    "print(newarr)\n",
    "#Reshape from 1D to 3D\n",
    "newarr2 = arr.reshape(2,3,2)# 2 arrays that contains 3 array and each contains 2 element\n",
    "print(newarr2)\n",
    "print(arr.reshape(2,6).base)#check copy or view"
   ]
  },
  {
   "cell_type": "code",
   "execution_count": 2,
   "metadata": {},
   "outputs": [
    {
     "name": "stdout",
     "output_type": "stream",
     "text": [
      "[[[11 12]\n",
      "  [13 14]]\n",
      "\n",
      " [[15 16]\n",
      "  [17 18]]]\n"
     ]
    }
   ],
   "source": [
    "#unknown dimension\n",
    "#pass -1 as value and numpy will calculate this number\n",
    "import numpy as np\n",
    "arr = np.array([11,12,13,14,15,16,17,18])\n",
    "newarr = arr.reshape(2,2,-1) #2main arrays with 2 arrays and num of element unknown that's why -1\n",
    "print(newarr)"
   ]
  },
  {
   "cell_type": "code",
   "execution_count": 3,
   "metadata": {},
   "outputs": [
    {
     "name": "stdout",
     "output_type": "stream",
     "text": [
      "[1 2 3 4 5 6 7 8]\n"
     ]
    }
   ],
   "source": [
    "#Flattening the arrays\n",
    "#Flattning means converting a multidimensional array to 1D\n",
    "#we use reshape(-1) for it\n",
    "arr = np.array([[1,2,3,4],[5,6,7,8]])\n",
    "newarr = arr.reshape(-1)\n",
    "print(newarr)"
   ]
  },
  {
   "cell_type": "code",
   "execution_count": 1,
   "metadata": {},
   "outputs": [
    {
     "name": "stdout",
     "output_type": "stream",
     "text": [
      "1\n",
      "2\n",
      "3\n",
      "4\n",
      "5\n",
      "Iteration End of 1D array\n",
      "\n",
      "[1 2 3]\n",
      "[4 5 6]\n",
      "Iteration End of 2D array with dimension\n",
      "\n",
      "1\n",
      "2\n",
      "3\n",
      "4\n",
      "5\n",
      "6\n",
      "7\n",
      "8\n",
      "9\n",
      "Iteration End of 2D array in one line using nditer() function\n",
      "\n",
      "b'1'\n",
      "b'2'\n",
      "b'3'\n",
      "b'4'\n",
      "b'5'\n",
      "Coverted the Datatype of array using op_dtypes and buffer arguments\n",
      "\n",
      "a\n",
      "c\n",
      "e\n",
      "g\n",
      "using 2D array slicing we printed element with step 2\n",
      "\n",
      "(0,) 1\n",
      "(1,) 2\n",
      "(2,) 3\n",
      "Enumeration used to count the index of 1D with value\n",
      "\n",
      "(0, 0) 1\n",
      "(0, 1) 2\n",
      "(0, 2) 3\n",
      "(1, 0) 4\n",
      "(1, 1) 5\n",
      "(1, 2) 6\n",
      "Enumeration used to count the index of 2D with value\n",
      "\n"
     ]
    }
   ],
   "source": [
    "#Numpy Array Iteration\n",
    "#iterating 1D array \n",
    "import numpy as np\n",
    "arr = np.array([1,2,3,4,5])\n",
    "for x in arr:\n",
    "    print(x)\n",
    "print(\"Iteration End of 1D array\\n\")\n",
    "\n",
    "#Iterating 2D array\n",
    "arr2 = np.array([[1,2,3],[4,5,6]]) \n",
    "for x in arr2:\n",
    "    print(x)\n",
    "print(\"Iteration End of 2D array with dimension\\n\")    \n",
    "\n",
    "#iterate on each scalar element means ek line ei sob element dekhabe dimension wise na\n",
    "#using nditer()\n",
    "arr3 = np.array([[1,2,3],[4,5,6],[7,8,9]])\n",
    "for x in np.nditer(arr3):\n",
    "    print(x)\n",
    "print(\"Iteration End of 2D array in one line using nditer() function\\n\") \n",
    "\n",
    "#Iterating array with different data types\n",
    "#op_dtypes argument used to change the datatype of array\n",
    "#numpy doesn't allow to change its datatype in place thats why we need another place called buffer\n",
    "#we pass flags=['buffered']\n",
    "\n",
    "arr4 = np.array([1,2,3,4,5])\n",
    "for x in np.nditer(arr4, flags = ['buffered'], op_dtypes = 'S'):\n",
    "    print(x)\n",
    "print(\"Coverted the Datatype of array using op_dtypes and buffer arguments\\n\") \n",
    "\n",
    "\n",
    "#iterate through every scalar element of the 2D array skipping 1 element\n",
    "\n",
    "arr5 = np.array([['a','b','c','d'],['e','f','g','h']])\n",
    "for x in np.nditer(arr5[0:2, ::2]):\n",
    "    print(x)\n",
    "print(\"using 2D array slicing we printed element with step 2\\n\")\n",
    "\n",
    "\n",
    "#enumerated Iteration using ndenumerate() in 1D array\n",
    "arr6 = np.array([1,2,3])\n",
    "for indx, x in np.ndenumerate(arr6):\n",
    "      print(indx, x)\n",
    "print(\"Enumeration used to count the index of 1D with value\\n\")\n",
    "\n",
    "#enumerated Iteration using ndenumerate() in 2 array\n",
    "arr7= np.array([[1,2,3],[4,5,6]])\n",
    "for indx, x in np.ndenumerate(arr7):\n",
    "      print(indx, x)\n",
    "print(\"Enumeration used to count the index of 2D with value\\n\")   "
   ]
  },
  {
   "cell_type": "code",
   "execution_count": 22,
   "metadata": {},
   "outputs": [
    {
     "name": "stdout",
     "output_type": "stream",
     "text": [
      "\n",
      "Join of two 1D array [1 2 3 4 5 6 7 8]\n",
      "\n",
      "\n",
      "Join of 2D array horizontally\n",
      " [[1 2 5 6]\n",
      " [3 4 7 8]]\n",
      "\n",
      "\n",
      "Using stack 1D arrays are joined together [[1 5]\n",
      " [2 6]\n",
      " [3 7]\n",
      " [4 8]]\n",
      "\n",
      "\n",
      "To stack along rows [1 2 3 4 5 6 7 8]\n",
      "\n",
      "\n",
      "To stack along columns [[1 2 3 4]\n",
      " [5 6 7 8]]\n",
      "\n",
      "\n",
      "To join along depth\n",
      " [[[1 5]\n",
      "  [2 6]\n",
      "  [3 7]\n",
      "  [4 8]]]\n"
     ]
    }
   ],
   "source": [
    "#Numpy Joining Array\n",
    "#joining two or more array in a single array by axes\n",
    "#usin comcatenate() function aomg with axis\n",
    "import numpy as np\n",
    "arr1 = np.array([1,2,3,4])\n",
    "arr2 = np.array([5,6,7,8])\n",
    "\n",
    "arr = np.concatenate((arr1,arr2)) #axis = 0 by default\n",
    "print(\"\\nJoin of two 1D array\",arr)\n",
    "print(\"\\n\")\n",
    "\n",
    "#joing 2D array along rows axis = 1\n",
    "\n",
    "arr3 =np.array([[1,2],[3,4]])\n",
    "arr4 = np.array([[5,6],[7,8]])\n",
    "\n",
    "arrr = np.concatenate((arr3,arr4),axis =1) #axis=0 means horizontally(x axis) and axis=1 means goes vertically(y axis)\n",
    "print(\"Join of 2D array horizontally\\n\",arrr)\n",
    "print(\"\\n\")\n",
    "\n",
    "#joing array with stack function\n",
    "#stacking is done along a new axis\n",
    "\n",
    "arr5 = np.array([1,2,3,4])\n",
    "arr6 = np.array([5,6,7,8])\n",
    "\n",
    "arr_stack = np.stack((arr5,arr6),axis=1)\n",
    "print(\"Using stack 1D arrays are joined together\",arr_stack) #using a diff axis \n",
    "print(\"\\n\")\n",
    "\n",
    "#to stack along rows\n",
    "arr_stack_rows = np.hstack((arr5,arr6))\n",
    "print(\"To stack along rows\", arr_stack_rows)\n",
    "print(\"\\n\")\n",
    "\n",
    "#to stack along columns\n",
    "arr_stack_columns = np.vstack((arr5,arr6))\n",
    "print(\"To stack along columns\", arr_stack_columns)\n",
    "print(\"\\n\")\n",
    "\n",
    "#to stack along height or depth\n",
    "arr_stack_depth = np.dstack((arr5,arr6))\n",
    "print(\"To join along depth\\n\",arr_stack_depth)"
   ]
  },
  {
   "cell_type": "code",
   "execution_count": 34,
   "metadata": {},
   "outputs": [
    {
     "name": "stdout",
     "output_type": "stream",
     "text": [
      "Splitting an array into. 3 parts\n",
      " [array([1, 2, 3]), array([4, 5, 6]), array([7, 8, 9])]\n",
      "\n",
      "\n",
      "[1 2 3]\n",
      "[4 5 6]\n",
      "[7 8 9]\n",
      "\n",
      "\n",
      "[array([[1, 2],\n",
      "       [3, 4]]), array([[5, 6],\n",
      "       [7, 8]]), array([[ 9, 10],\n",
      "       [11, 12]])]\n",
      "\n",
      "\n",
      "[array([[ 1],\n",
      "       [ 3],\n",
      "       [ 5],\n",
      "       [ 7],\n",
      "       [ 9],\n",
      "       [11]]), array([[ 2],\n",
      "       [ 4],\n",
      "       [ 6],\n",
      "       [ 8],\n",
      "       [10],\n",
      "       [12]]), array([], shape=(6, 0), dtype=int32)]\n",
      "\n",
      "\n",
      "[array([[ 1],\n",
      "       [ 3],\n",
      "       [ 5],\n",
      "       [ 7],\n",
      "       [ 9],\n",
      "       [11]]), array([[ 2],\n",
      "       [ 4],\n",
      "       [ 6],\n",
      "       [ 8],\n",
      "       [10],\n",
      "       [12]])]\n",
      "\n",
      "\n",
      "[array([[1, 2],\n",
      "       [3, 4],\n",
      "       [5, 6]]), array([[ 7,  8],\n",
      "       [ 9, 10],\n",
      "       [11, 12]])]\n",
      "\n",
      "\n"
     ]
    }
   ],
   "source": [
    "#Numpy splitting Array\n",
    "#splitting is reverse operation of joining\n",
    "#using array_split() function we will split it\n",
    "import numpy as np\n",
    "arr = np.array([1,2,3,4,5,6,7,8,9])\n",
    "newarr = np.array_split(arr,3)#3 mean 3 part e split\n",
    "print(\"Splitting an array into. 3 parts\\n\",newarr)\n",
    "print(\"\\n\")\n",
    "\n",
    "'''\n",
    "If the array has less elements than required, \n",
    "it will adjust from the end accordingly.\n",
    "\n",
    "'''\n",
    "#Access the splitted array\n",
    "print(newarr[0])\n",
    "print(newarr[1])\n",
    "print(newarr[2]) #splitted array can be accessed from result\n",
    "print(\"\\n\")\n",
    "\n",
    "#splitting 2D array to 3 2D arrays\n",
    "arr2 = np.array([[1,2],[3,4],[5,6],[7,8],[9,10],[11,12]])\n",
    "newarr2 = np.array_split(arr2,3)\n",
    "print(newarr2)\n",
    "print(\"\\n\")\n",
    "\n",
    "\n",
    "#we can also define the axis\n",
    "newarr3 = np.array_split(arr2,3,axis=1)#split along y axis from each array\n",
    "print(newarr3)\n",
    "print(\"\\n\")\n",
    "\n",
    "#split horizontally\n",
    "newarr4 = np.hsplit(arr2,2)#split horizontally\n",
    "print(newarr4)\n",
    "print(\"\\n\")\n",
    "newarr5 = np.vsplit(arr2,2)#split vertically\n",
    "print(newarr5)\n",
    "print(\"\\n\")"
   ]
  },
  {
   "cell_type": "code",
   "execution_count": 38,
   "metadata": {},
   "outputs": [
    {
     "name": "stdout",
     "output_type": "stream",
     "text": [
      "(array([2, 4, 6], dtype=int64),)\n",
      "2\n",
      "4\n",
      "[0 0 4]\n"
     ]
    }
   ],
   "source": [
    "#Numpy searchimg Arrays\n",
    "#using where() method\n",
    "arr = np.array([1,2,3,4,3,6,3,9])\n",
    "x = np.where(arr == 3)\n",
    "print(x)\n",
    "\n",
    "#Searchsorted() performs a binary search where we wn inset the search value\n",
    "#this searchcorted() used on sorted array\n",
    "arr1 = np.array([5,6,7,7,8])\n",
    "x1 = np.searchsorted(arr1, 7)#will find the location of 7\n",
    "print(x1) #return the index \n",
    "#By default the search is from lest side but we can start it from right aso\n",
    "x2 = np.searchsorted(arr1,7, side ='right')\n",
    "print(x2)\n",
    "\n",
    "x3 = np.searchsorted(arr1, [2,4,8])\n",
    "print(x3) #return the index where we can add this numbers\n"
   ]
  },
  {
   "cell_type": "code",
   "execution_count": 41,
   "metadata": {},
   "outputs": [
    {
     "name": "stdout",
     "output_type": "stream",
     "text": [
      "sorting numbers [0 1 2 3 6 8]\n",
      "\n",
      "\n",
      "sorting string alphabetically ['apple' 'banana' 'cherry' 'orange']\n",
      "\n",
      "\n",
      "sorting 2D array [[2 3 4]\n",
      " [0 1 5]]\n",
      "\n",
      "\n"
     ]
    }
   ],
   "source": [
    "#Sorting Array\n",
    "#using sort() method we do sorting\n",
    "#it returns a copy of the array\n",
    "arr1 = np.array([3,0,6,2,8,1])\n",
    "print(\"sorting numbers\",np.sort(arr1))\n",
    "print(\"\\n\")\n",
    "\n",
    "arr2 = np.array([\"banana\",\"orange\",\"apple\",\"cherry\"])\n",
    "print(\"sorting string alphabetically\", np.sort(arr2))\n",
    "print(\"\\n\")\n",
    "\n",
    "#sorting a 2D array\n",
    "arr3 = np.array([[3,2,4],[5,0,1]])\n",
    "print(\"sorting 2D array\", np.sort(arr3))\n",
    "print(\"\\n\")"
   ]
  },
  {
   "cell_type": "code",
   "execution_count": 45,
   "metadata": {},
   "outputs": [
    {
     "name": "stdout",
     "output_type": "stream",
     "text": [
      "[10 13]\n",
      "[False, False, True, True, True]\n",
      "[43 44 45]\n",
      "[False, True, False, True, False, True, False, True, False, True]\n",
      "[ 2  4  6  8 10]\n"
     ]
    }
   ],
   "source": [
    "#Filtering Array\n",
    "#In Numpy we filter amn array using a boolean index list\n",
    "#if the value of boolean index is true then it will pick thst element\n",
    "\n",
    "import numpy as np\n",
    "arr = np.array([10,12,13,14])\n",
    "filter_arr = [True, False,True, False]#manually set the boolen index\n",
    "newarr = arr[filter_arr]\n",
    "print(newarr)\n",
    "\n",
    "#creating the Filter array\n",
    "arr1 = np.array([41,42,43,44,45])\n",
    "filter_arr1 = []#emplty list where the geenrated boolean will store\n",
    "for x in arr1:\n",
    "    if x >42:\n",
    "        filter_arr1.append(True)\n",
    "    else:\n",
    "        filter_arr1.append(False)\n",
    "newarr1 = arr1[filter_arr1]\n",
    "print(filter_arr1)\n",
    "print(newarr1)\n",
    "\n",
    "#create a filter array that will return only even elements from original array\n",
    "\n",
    "arr2 =np.array([1,2,3,4,5,6,7,8,9,10])\n",
    "filter_arr2 =[]\n",
    "for x in arr2:\n",
    "    if x%2==0:\n",
    "        filter_arr2.append(True)\n",
    "    else:\n",
    "        filter_arr2.append(False)\n",
    "newarr2 = arr2[filter_arr2]\n",
    "print(filter_arr2)\n",
    "print(newarr2)"
   ]
  },
  {
   "cell_type": "code",
   "execution_count": null,
   "metadata": {},
   "outputs": [],
   "source": []
  }
 ],
 "metadata": {
  "kernelspec": {
   "display_name": "Python 3",
   "language": "python",
   "name": "python3"
  },
  "language_info": {
   "codemirror_mode": {
    "name": "ipython",
    "version": 3
   },
   "file_extension": ".py",
   "mimetype": "text/x-python",
   "name": "python",
   "nbconvert_exporter": "python",
   "pygments_lexer": "ipython3",
   "version": "3.9.6"
  }
 },
 "nbformat": 4,
 "nbformat_minor": 4
}
